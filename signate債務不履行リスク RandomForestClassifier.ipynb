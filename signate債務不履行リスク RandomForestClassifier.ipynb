{
 "cells": [
  {
   "cell_type": "code",
   "execution_count": 1,
   "metadata": {},
   "outputs": [],
   "source": [
    "#Libraries\n",
    "import pandas as pd\n",
    "import numpy as np\n",
    "import matplotlib.pyplot as plt\n",
    "import seaborn as sns\n",
    "from scipy.stats import norm\n",
    "from scipy import stats\n",
    "import warnings\n",
    "warnings.filterwarnings('ignore')\n",
    "\n",
    "import sklearn\n",
    "import sklearn.linear_model\n",
    "import sklearn.ensemble\n",
    "import sklearn.metrics\n",
    "from dnn_utils_v2 import sigmoid, sigmoid_backward, relu, relu_backward\n",
    "from testCases_v4a import *\n",
    "from dnn_app_utils_v3 import *\n",
    "from sklearn.metrics import f1_score\n",
    "from sklearn.ensemble import RandomForestRegressor\n",
    "from sklearn.ensemble import RandomForestClassifier\n",
    "from sklearn.metrics import mean_absolute_error\n",
    "from RandomForestModelImprovement import RandomForestModelImprovement\n",
    "%matplotlib inline"
   ]
  },
  {
   "cell_type": "code",
   "execution_count": 2,
   "metadata": {},
   "outputs": [
    {
     "name": "stdout",
     "output_type": "stream",
     "text": [
      "dataframeの行数・列数の確認==>\n",
      " (242150, 9)\n",
      "indexの確認==>\n",
      " RangeIndex(start=0, stop=242150, step=1)\n",
      "columnの確認==>\n",
      " Index(['id', 'loan_amnt', 'term', 'interest_rate', 'grade',\n",
      "       'employment_length', 'purpose', 'credit_score', 'loan_status'],\n",
      "      dtype='object')\n",
      "dataframeの各列のデータ型を確認==>\n",
      " id                     int64\n",
      "loan_amnt            float64\n",
      "term                  object\n",
      "interest_rate        float64\n",
      "grade                 object\n",
      "employment_length     object\n",
      "purpose               object\n",
      "credit_score         float64\n",
      "loan_status           object\n",
      "dtype: object\n"
     ]
    }
   ],
   "source": [
    "df = pd.read_csv(\"signate 債務不履行リスク.csv\")\n",
    "#application_appの列でーたを削除\n",
    "df.drop(columns=\"application_type\", inplace=True)\n",
    "print('dataframeの行数・列数の確認==>\\n', df.shape)\n",
    "print('indexの確認==>\\n', df.index)\n",
    "print('columnの確認==>\\n', df.columns)\n",
    "print(\"dataframeの各列のデータ型を確認==>\\n\", df.dtypes)\n",
    "#df['loan_status'].unique() #array(['FullyPaid', 'ChargedOff'], dtype=object) onehot\n",
    "#df.isnull().sum()\n",
    "#df['term'].unique() array(['3 years', '5 years'], dtype=object) onehot\n",
    "#df['grade'].unique() array(['A5', 'B1', 'C2', 'C1', 'E5', 'D5', 'B4', 'A3', 'D3', 'C3', 'A2',\n",
    "                               #'D1', 'A1', 'C5', 'A4', 'C4', 'E4', 'B2', 'B5', 'D2', 'D4', 'B3',\n",
    "                               #'E2', 'E1', 'E3', 'F3', 'F5'], dtype=object)⇒27parameters\n",
    "#df['employment_length'].unique() array(['0 years', '10 years', '1 year', '2 years', '3 years', '6 years',\n",
    "                                        #'9 years', '7 years', '4 years', '5 years', '8 years'],\n",
    "                                         # dtype=object)\n",
    "#df['purpose'].unique() array(['debt_consolidation', 'credit_card', 'medical', 'other',\n",
    "                               #'home_improvement', 'car', 'major_purchase', 'small_business',\n",
    "                               #'house'], dtype=object) onehot\n",
    "#df['application_type'].unique() array(['Individual', 'Joint App'], dtype=object) onehot\n",
    "\n",
    "\n",
    "df = pd.get_dummies(df, columns=['purpose'])"
   ]
  },
  {
   "cell_type": "code",
   "execution_count": 3,
   "metadata": {},
   "outputs": [],
   "source": [
    "loan_status_seri = df[\"loan_status\"]\n",
    "loan_status_list = loan_status_seri.values.tolist()\n",
    "\n",
    "\n",
    "loan_status_list2 = []\n",
    "for loan_status in loan_status_list:\n",
    "    if loan_status == \"FullyPaid\":\n",
    "        loan_status = 0\n",
    "    else:\n",
    "        loan_status = 1\n",
    "    loan_status_list2.append(loan_status)\n",
    "    \n",
    "    \n",
    "loan_status_seri = pd.Series(loan_status_list2)\n",
    "df[\"loan_status\"] = loan_status_seri"
   ]
  },
  {
   "cell_type": "code",
   "execution_count": 4,
   "metadata": {},
   "outputs": [],
   "source": [
    "term_seri = df[\"term\"]\n",
    "term_list = term_seri.values.tolist()\n",
    "\n",
    "\n",
    "term_list2 =[]\n",
    "for term in term_list:\n",
    "    term = term.replace(\"years\", \"\")\n",
    "    term = float(term)\n",
    "    term_list2.append(term)\n",
    "    \n",
    "    \n",
    "term_seri = pd.Series(term_list2)\n",
    "\n",
    "\n",
    "df[\"term\"] = term_seri"
   ]
  },
  {
   "cell_type": "code",
   "execution_count": 5,
   "metadata": {},
   "outputs": [
    {
     "data": {
      "text/html": [
       "<div>\n",
       "<style scoped>\n",
       "    .dataframe tbody tr th:only-of-type {\n",
       "        vertical-align: middle;\n",
       "    }\n",
       "\n",
       "    .dataframe tbody tr th {\n",
       "        vertical-align: top;\n",
       "    }\n",
       "\n",
       "    .dataframe thead th {\n",
       "        text-align: right;\n",
       "    }\n",
       "</style>\n",
       "<table border=\"1\" class=\"dataframe\">\n",
       "  <thead>\n",
       "    <tr style=\"text-align: right;\">\n",
       "      <th></th>\n",
       "      <th>id</th>\n",
       "      <th>loan_amnt</th>\n",
       "      <th>term</th>\n",
       "      <th>interest_rate</th>\n",
       "      <th>grade</th>\n",
       "      <th>employment_length</th>\n",
       "      <th>credit_score</th>\n",
       "      <th>loan_status</th>\n",
       "      <th>purpose_car</th>\n",
       "      <th>purpose_credit_card</th>\n",
       "      <th>purpose_debt_consolidation</th>\n",
       "      <th>purpose_home_improvement</th>\n",
       "      <th>purpose_house</th>\n",
       "      <th>purpose_major_purchase</th>\n",
       "      <th>purpose_medical</th>\n",
       "      <th>purpose_other</th>\n",
       "      <th>purpose_small_business</th>\n",
       "    </tr>\n",
       "  </thead>\n",
       "  <tbody>\n",
       "    <tr>\n",
       "      <th>0</th>\n",
       "      <td>0</td>\n",
       "      <td>609.296068</td>\n",
       "      <td>3.0</td>\n",
       "      <td>8.421982</td>\n",
       "      <td>A5</td>\n",
       "      <td>0.0</td>\n",
       "      <td>714.061803</td>\n",
       "      <td>0</td>\n",
       "      <td>0</td>\n",
       "      <td>0</td>\n",
       "      <td>1</td>\n",
       "      <td>0</td>\n",
       "      <td>0</td>\n",
       "      <td>0</td>\n",
       "      <td>0</td>\n",
       "      <td>0</td>\n",
       "      <td>0</td>\n",
       "    </tr>\n",
       "    <tr>\n",
       "      <th>1</th>\n",
       "      <td>1</td>\n",
       "      <td>1183.266999</td>\n",
       "      <td>5.0</td>\n",
       "      <td>10.286776</td>\n",
       "      <td>B1</td>\n",
       "      <td>10.0</td>\n",
       "      <td>697.706701</td>\n",
       "      <td>1</td>\n",
       "      <td>0</td>\n",
       "      <td>1</td>\n",
       "      <td>0</td>\n",
       "      <td>0</td>\n",
       "      <td>0</td>\n",
       "      <td>0</td>\n",
       "      <td>0</td>\n",
       "      <td>0</td>\n",
       "      <td>0</td>\n",
       "    </tr>\n",
       "    <tr>\n",
       "      <th>2</th>\n",
       "      <td>2</td>\n",
       "      <td>695.783256</td>\n",
       "      <td>3.0</td>\n",
       "      <td>14.723425</td>\n",
       "      <td>C2</td>\n",
       "      <td>1.0</td>\n",
       "      <td>656.419357</td>\n",
       "      <td>0</td>\n",
       "      <td>0</td>\n",
       "      <td>0</td>\n",
       "      <td>1</td>\n",
       "      <td>0</td>\n",
       "      <td>0</td>\n",
       "      <td>0</td>\n",
       "      <td>0</td>\n",
       "      <td>0</td>\n",
       "      <td>0</td>\n",
       "    </tr>\n",
       "    <tr>\n",
       "      <th>3</th>\n",
       "      <td>3</td>\n",
       "      <td>738.392546</td>\n",
       "      <td>3.0</td>\n",
       "      <td>14.260708</td>\n",
       "      <td>C1</td>\n",
       "      <td>0.0</td>\n",
       "      <td>657.906852</td>\n",
       "      <td>0</td>\n",
       "      <td>0</td>\n",
       "      <td>1</td>\n",
       "      <td>0</td>\n",
       "      <td>0</td>\n",
       "      <td>0</td>\n",
       "      <td>0</td>\n",
       "      <td>0</td>\n",
       "      <td>0</td>\n",
       "      <td>0</td>\n",
       "    </tr>\n",
       "    <tr>\n",
       "      <th>4</th>\n",
       "      <td>4</td>\n",
       "      <td>1642.400654</td>\n",
       "      <td>5.0</td>\n",
       "      <td>25.217452</td>\n",
       "      <td>E5</td>\n",
       "      <td>10.0</td>\n",
       "      <td>662.972297</td>\n",
       "      <td>0</td>\n",
       "      <td>0</td>\n",
       "      <td>0</td>\n",
       "      <td>1</td>\n",
       "      <td>0</td>\n",
       "      <td>0</td>\n",
       "      <td>0</td>\n",
       "      <td>0</td>\n",
       "      <td>0</td>\n",
       "      <td>0</td>\n",
       "    </tr>\n",
       "  </tbody>\n",
       "</table>\n",
       "</div>"
      ],
      "text/plain": [
       "   id    loan_amnt  term  interest_rate grade  employment_length  \\\n",
       "0   0   609.296068   3.0       8.421982    A5                0.0   \n",
       "1   1  1183.266999   5.0      10.286776    B1               10.0   \n",
       "2   2   695.783256   3.0      14.723425    C2                1.0   \n",
       "3   3   738.392546   3.0      14.260708    C1                0.0   \n",
       "4   4  1642.400654   5.0      25.217452    E5               10.0   \n",
       "\n",
       "   credit_score  loan_status  purpose_car  purpose_credit_card  \\\n",
       "0    714.061803            0            0                    0   \n",
       "1    697.706701            1            0                    1   \n",
       "2    656.419357            0            0                    0   \n",
       "3    657.906852            0            0                    1   \n",
       "4    662.972297            0            0                    0   \n",
       "\n",
       "   purpose_debt_consolidation  purpose_home_improvement  purpose_house  \\\n",
       "0                           1                         0              0   \n",
       "1                           0                         0              0   \n",
       "2                           1                         0              0   \n",
       "3                           0                         0              0   \n",
       "4                           1                         0              0   \n",
       "\n",
       "   purpose_major_purchase  purpose_medical  purpose_other  \\\n",
       "0                       0                0              0   \n",
       "1                       0                0              0   \n",
       "2                       0                0              0   \n",
       "3                       0                0              0   \n",
       "4                       0                0              0   \n",
       "\n",
       "   purpose_small_business  \n",
       "0                       0  \n",
       "1                       0  \n",
       "2                       0  \n",
       "3                       0  \n",
       "4                       0  "
      ]
     },
     "execution_count": 5,
     "metadata": {},
     "output_type": "execute_result"
    }
   ],
   "source": [
    "employment_length_seri = df[\"employment_length\"]\n",
    "employment_length_list = employment_length_seri.values.tolist()\n",
    "\n",
    "\n",
    "employment_length_list2=[]\n",
    "for employment_length in employment_length_list:\n",
    "    if \"years\" in employment_length:\n",
    "        employment_length = employment_length.replace(\"years\", \"\")\n",
    "        employment_length = float(employment_length)\n",
    "    else:\n",
    "        employment_length = employment_length.replace(\"year\", \"\")\n",
    "        employment_length = float(employment_length)\n",
    "    employment_length_list2.append(employment_length)\n",
    "    \n",
    "    \n",
    "employment_length_seri = pd.Series(employment_length_list2)\n",
    "\n",
    "\n",
    "df[\"employment_length\"] = employment_length_seri\n",
    "df.head()"
   ]
  },
  {
   "cell_type": "code",
   "execution_count": 6,
   "metadata": {},
   "outputs": [
    {
     "data": {
      "text/html": [
       "<div>\n",
       "<style scoped>\n",
       "    .dataframe tbody tr th:only-of-type {\n",
       "        vertical-align: middle;\n",
       "    }\n",
       "\n",
       "    .dataframe tbody tr th {\n",
       "        vertical-align: top;\n",
       "    }\n",
       "\n",
       "    .dataframe thead th {\n",
       "        text-align: right;\n",
       "    }\n",
       "</style>\n",
       "<table border=\"1\" class=\"dataframe\">\n",
       "  <thead>\n",
       "    <tr style=\"text-align: right;\">\n",
       "      <th></th>\n",
       "      <th>id</th>\n",
       "      <th>loan_amnt</th>\n",
       "      <th>term</th>\n",
       "      <th>interest_rate</th>\n",
       "      <th>grade</th>\n",
       "      <th>employment_length</th>\n",
       "      <th>credit_score</th>\n",
       "      <th>loan_status</th>\n",
       "      <th>purpose_car</th>\n",
       "      <th>purpose_credit_card</th>\n",
       "      <th>purpose_debt_consolidation</th>\n",
       "      <th>purpose_home_improvement</th>\n",
       "      <th>purpose_house</th>\n",
       "      <th>purpose_major_purchase</th>\n",
       "      <th>purpose_medical</th>\n",
       "      <th>purpose_other</th>\n",
       "      <th>purpose_small_business</th>\n",
       "    </tr>\n",
       "  </thead>\n",
       "  <tbody>\n",
       "    <tr>\n",
       "      <th>0</th>\n",
       "      <td>0</td>\n",
       "      <td>-1.097372</td>\n",
       "      <td>3.0</td>\n",
       "      <td>-1.172282</td>\n",
       "      <td>A5</td>\n",
       "      <td>0.0</td>\n",
       "      <td>1.031534</td>\n",
       "      <td>0</td>\n",
       "      <td>0</td>\n",
       "      <td>0</td>\n",
       "      <td>1</td>\n",
       "      <td>0</td>\n",
       "      <td>0</td>\n",
       "      <td>0</td>\n",
       "      <td>0</td>\n",
       "      <td>0</td>\n",
       "      <td>0</td>\n",
       "    </tr>\n",
       "    <tr>\n",
       "      <th>1</th>\n",
       "      <td>1</td>\n",
       "      <td>-0.406049</td>\n",
       "      <td>5.0</td>\n",
       "      <td>-0.765914</td>\n",
       "      <td>B1</td>\n",
       "      <td>10.0</td>\n",
       "      <td>0.478152</td>\n",
       "      <td>1</td>\n",
       "      <td>0</td>\n",
       "      <td>1</td>\n",
       "      <td>0</td>\n",
       "      <td>0</td>\n",
       "      <td>0</td>\n",
       "      <td>0</td>\n",
       "      <td>0</td>\n",
       "      <td>0</td>\n",
       "      <td>0</td>\n",
       "    </tr>\n",
       "    <tr>\n",
       "      <th>2</th>\n",
       "      <td>2</td>\n",
       "      <td>-0.993202</td>\n",
       "      <td>3.0</td>\n",
       "      <td>0.200903</td>\n",
       "      <td>C2</td>\n",
       "      <td>1.0</td>\n",
       "      <td>-0.918824</td>\n",
       "      <td>0</td>\n",
       "      <td>0</td>\n",
       "      <td>0</td>\n",
       "      <td>1</td>\n",
       "      <td>0</td>\n",
       "      <td>0</td>\n",
       "      <td>0</td>\n",
       "      <td>0</td>\n",
       "      <td>0</td>\n",
       "      <td>0</td>\n",
       "    </tr>\n",
       "    <tr>\n",
       "      <th>3</th>\n",
       "      <td>3</td>\n",
       "      <td>-0.941880</td>\n",
       "      <td>3.0</td>\n",
       "      <td>0.100070</td>\n",
       "      <td>C1</td>\n",
       "      <td>0.0</td>\n",
       "      <td>-0.868494</td>\n",
       "      <td>0</td>\n",
       "      <td>0</td>\n",
       "      <td>1</td>\n",
       "      <td>0</td>\n",
       "      <td>0</td>\n",
       "      <td>0</td>\n",
       "      <td>0</td>\n",
       "      <td>0</td>\n",
       "      <td>0</td>\n",
       "      <td>0</td>\n",
       "    </tr>\n",
       "    <tr>\n",
       "      <th>4</th>\n",
       "      <td>4</td>\n",
       "      <td>0.146958</td>\n",
       "      <td>5.0</td>\n",
       "      <td>2.487720</td>\n",
       "      <td>E5</td>\n",
       "      <td>10.0</td>\n",
       "      <td>-0.697103</td>\n",
       "      <td>0</td>\n",
       "      <td>0</td>\n",
       "      <td>0</td>\n",
       "      <td>1</td>\n",
       "      <td>0</td>\n",
       "      <td>0</td>\n",
       "      <td>0</td>\n",
       "      <td>0</td>\n",
       "      <td>0</td>\n",
       "      <td>0</td>\n",
       "    </tr>\n",
       "  </tbody>\n",
       "</table>\n",
       "</div>"
      ],
      "text/plain": [
       "   id  loan_amnt  term  interest_rate grade  employment_length  credit_score  \\\n",
       "0   0  -1.097372   3.0      -1.172282    A5                0.0      1.031534   \n",
       "1   1  -0.406049   5.0      -0.765914    B1               10.0      0.478152   \n",
       "2   2  -0.993202   3.0       0.200903    C2                1.0     -0.918824   \n",
       "3   3  -0.941880   3.0       0.100070    C1                0.0     -0.868494   \n",
       "4   4   0.146958   5.0       2.487720    E5               10.0     -0.697103   \n",
       "\n",
       "   loan_status  purpose_car  purpose_credit_card  purpose_debt_consolidation  \\\n",
       "0            0            0                    0                           1   \n",
       "1            1            0                    1                           0   \n",
       "2            0            0                    0                           1   \n",
       "3            0            0                    1                           0   \n",
       "4            0            0                    0                           1   \n",
       "\n",
       "   purpose_home_improvement  purpose_house  purpose_major_purchase  \\\n",
       "0                         0              0                       0   \n",
       "1                         0              0                       0   \n",
       "2                         0              0                       0   \n",
       "3                         0              0                       0   \n",
       "4                         0              0                       0   \n",
       "\n",
       "   purpose_medical  purpose_other  purpose_small_business  \n",
       "0                0              0                       0  \n",
       "1                0              0                       0  \n",
       "2                0              0                       0  \n",
       "3                0              0                       0  \n",
       "4                0              0                       0  "
      ]
     },
     "execution_count": 6,
     "metadata": {},
     "output_type": "execute_result"
    }
   ],
   "source": [
    "def standarize(column):\n",
    "    df_ = df.copy()\n",
    "    s = df_[column]\n",
    "    df_['standardization'] = (s - s.mean()) / s.std()\n",
    "    df[column] = df_['standardization']\n",
    "    \n",
    "    return df\n",
    "\n",
    "\n",
    "df = standarize(\"loan_amnt\")\n",
    "df = standarize(\"interest_rate\")\n",
    "df = standarize(\"credit_score\")\n",
    "df.head()"
   ]
  },
  {
   "cell_type": "code",
   "execution_count": 7,
   "metadata": {},
   "outputs": [
    {
     "data": {
      "text/html": [
       "<div>\n",
       "<style scoped>\n",
       "    .dataframe tbody tr th:only-of-type {\n",
       "        vertical-align: middle;\n",
       "    }\n",
       "\n",
       "    .dataframe tbody tr th {\n",
       "        vertical-align: top;\n",
       "    }\n",
       "\n",
       "    .dataframe thead th {\n",
       "        text-align: right;\n",
       "    }\n",
       "</style>\n",
       "<table border=\"1\" class=\"dataframe\">\n",
       "  <thead>\n",
       "    <tr style=\"text-align: right;\">\n",
       "      <th></th>\n",
       "      <th>id</th>\n",
       "      <th>loan_amnt</th>\n",
       "      <th>term</th>\n",
       "      <th>interest_rate</th>\n",
       "      <th>grade</th>\n",
       "      <th>employment_length</th>\n",
       "      <th>credit_score</th>\n",
       "      <th>loan_status</th>\n",
       "      <th>purpose_car</th>\n",
       "      <th>purpose_credit_card</th>\n",
       "      <th>purpose_debt_consolidation</th>\n",
       "      <th>purpose_home_improvement</th>\n",
       "      <th>purpose_house</th>\n",
       "      <th>purpose_major_purchase</th>\n",
       "      <th>purpose_medical</th>\n",
       "      <th>purpose_other</th>\n",
       "      <th>purpose_small_business</th>\n",
       "    </tr>\n",
       "  </thead>\n",
       "  <tbody>\n",
       "    <tr>\n",
       "      <th>0</th>\n",
       "      <td>0</td>\n",
       "      <td>-1.097372</td>\n",
       "      <td>3.0</td>\n",
       "      <td>-1.172282</td>\n",
       "      <td>27</td>\n",
       "      <td>0.0</td>\n",
       "      <td>1.031534</td>\n",
       "      <td>0</td>\n",
       "      <td>0</td>\n",
       "      <td>0</td>\n",
       "      <td>1</td>\n",
       "      <td>0</td>\n",
       "      <td>0</td>\n",
       "      <td>0</td>\n",
       "      <td>0</td>\n",
       "      <td>0</td>\n",
       "      <td>0</td>\n",
       "    </tr>\n",
       "    <tr>\n",
       "      <th>1</th>\n",
       "      <td>1</td>\n",
       "      <td>-0.406049</td>\n",
       "      <td>5.0</td>\n",
       "      <td>-0.765914</td>\n",
       "      <td>18</td>\n",
       "      <td>10.0</td>\n",
       "      <td>0.478152</td>\n",
       "      <td>1</td>\n",
       "      <td>0</td>\n",
       "      <td>1</td>\n",
       "      <td>0</td>\n",
       "      <td>0</td>\n",
       "      <td>0</td>\n",
       "      <td>0</td>\n",
       "      <td>0</td>\n",
       "      <td>0</td>\n",
       "      <td>0</td>\n",
       "    </tr>\n",
       "    <tr>\n",
       "      <th>2</th>\n",
       "      <td>2</td>\n",
       "      <td>-0.993202</td>\n",
       "      <td>3.0</td>\n",
       "      <td>0.200903</td>\n",
       "      <td>14</td>\n",
       "      <td>1.0</td>\n",
       "      <td>-0.918824</td>\n",
       "      <td>0</td>\n",
       "      <td>0</td>\n",
       "      <td>0</td>\n",
       "      <td>1</td>\n",
       "      <td>0</td>\n",
       "      <td>0</td>\n",
       "      <td>0</td>\n",
       "      <td>0</td>\n",
       "      <td>0</td>\n",
       "      <td>0</td>\n",
       "    </tr>\n",
       "    <tr>\n",
       "      <th>3</th>\n",
       "      <td>3</td>\n",
       "      <td>-0.941880</td>\n",
       "      <td>3.0</td>\n",
       "      <td>0.100070</td>\n",
       "      <td>13</td>\n",
       "      <td>0.0</td>\n",
       "      <td>-0.868494</td>\n",
       "      <td>0</td>\n",
       "      <td>0</td>\n",
       "      <td>1</td>\n",
       "      <td>0</td>\n",
       "      <td>0</td>\n",
       "      <td>0</td>\n",
       "      <td>0</td>\n",
       "      <td>0</td>\n",
       "      <td>0</td>\n",
       "      <td>0</td>\n",
       "    </tr>\n",
       "    <tr>\n",
       "      <th>4</th>\n",
       "      <td>4</td>\n",
       "      <td>0.146958</td>\n",
       "      <td>5.0</td>\n",
       "      <td>2.487720</td>\n",
       "      <td>7</td>\n",
       "      <td>10.0</td>\n",
       "      <td>-0.697103</td>\n",
       "      <td>0</td>\n",
       "      <td>0</td>\n",
       "      <td>0</td>\n",
       "      <td>1</td>\n",
       "      <td>0</td>\n",
       "      <td>0</td>\n",
       "      <td>0</td>\n",
       "      <td>0</td>\n",
       "      <td>0</td>\n",
       "      <td>0</td>\n",
       "    </tr>\n",
       "  </tbody>\n",
       "</table>\n",
       "</div>"
      ],
      "text/plain": [
       "   id  loan_amnt  term  interest_rate  grade  employment_length  credit_score  \\\n",
       "0   0  -1.097372   3.0      -1.172282     27                0.0      1.031534   \n",
       "1   1  -0.406049   5.0      -0.765914     18               10.0      0.478152   \n",
       "2   2  -0.993202   3.0       0.200903     14                1.0     -0.918824   \n",
       "3   3  -0.941880   3.0       0.100070     13                0.0     -0.868494   \n",
       "4   4   0.146958   5.0       2.487720      7               10.0     -0.697103   \n",
       "\n",
       "   loan_status  purpose_car  purpose_credit_card  purpose_debt_consolidation  \\\n",
       "0            0            0                    0                           1   \n",
       "1            1            0                    1                           0   \n",
       "2            0            0                    0                           1   \n",
       "3            0            0                    1                           0   \n",
       "4            0            0                    0                           1   \n",
       "\n",
       "   purpose_home_improvement  purpose_house  purpose_major_purchase  \\\n",
       "0                         0              0                       0   \n",
       "1                         0              0                       0   \n",
       "2                         0              0                       0   \n",
       "3                         0              0                       0   \n",
       "4                         0              0                       0   \n",
       "\n",
       "   purpose_medical  purpose_other  purpose_small_business  \n",
       "0                0              0                       0  \n",
       "1                0              0                       0  \n",
       "2                0              0                       0  \n",
       "3                0              0                       0  \n",
       "4                0              0                       0  "
      ]
     },
     "execution_count": 7,
     "metadata": {},
     "output_type": "execute_result"
    }
   ],
   "source": [
    "grade_mapping = {'A5':27, 'B1':18, 'C2':14, 'C1':13, 'E5':7, 'D5':12, 'B4':21, 'A3':25, 'D3':10, 'C3':15, 'A2':24,'D1':8, 'A1':23,\n",
    "                 'C5':17, 'A4':26, 'C4':16, 'E4':6, 'B2':19, 'B5':22, 'D2':9, 'D4':11, 'B3':20,'E2':4, 'E1':3, 'E3':5, 'F3':1, 'F5':2}\n",
    "df[\"grade\"] = df[\"grade\"].map(grade_mapping)\n",
    "df.head()"
   ]
  },
  {
   "cell_type": "code",
   "execution_count": 9,
   "metadata": {},
   "outputs": [
    {
     "data": {
      "text/plain": [
       "(-0.5, 26.5, 0, 1)"
      ]
     },
     "execution_count": 9,
     "metadata": {},
     "output_type": "execute_result"
    },
    {
     "data": {
      "image/png": "[encoded data removed]",
      "text/plain": [
       "<Figure size 576x432 with 1 Axes>"
      ]
     },
     "metadata": {
      "needs_background": "light"
     },
     "output_type": "display_data"
    }
   ],
   "source": []
  },
  {
   "cell_type": "code",
   "execution_count": 9,
   "metadata": {},
   "outputs": [],
   "source": [
    "def X_y(df, column):\n",
    "    y_train = np.array(df[column])\n",
    "    del df[column]\n",
    "    del df[\"id\"]\n",
    "    X_train = df\n",
    "    return X_train, y_train\n",
    "\n",
    "\n",
    "X, y = X_y(df, \"loan_status\")\n",
    "\n",
    "\n",
    "X_train = X[:230000]\n",
    "y_train = y[:230000].reshape(-1, 1)\n",
    "\n",
    "X_val = X[230000:]\n",
    "y_val = y[230000:].reshape(-1, 1)"
   ]
  },
  {
   "cell_type": "code",
   "execution_count": 10,
   "metadata": {},
   "outputs": [
    {
     "name": "stderr",
     "output_type": "stream",
     "text": [
      "C:\\Users\\lifetime\\anaconda3\\lib\\site-packages\\ipykernel_launcher.py:2: DataConversionWarning: A column-vector y was passed when a 1d array was expected. Please change the shape of y to (n_samples,), for example using ravel().\n",
      "  \n"
     ]
    },
    {
     "data": {
      "text/plain": [
       "RandomForestClassifier(bootstrap=True, ccp_alpha=0.0, class_weight=None,\n",
       "                       criterion='gini', max_depth=None, max_features='auto',\n",
       "                       max_leaf_nodes=None, max_samples=None,\n",
       "                       min_impurity_decrease=0.0, min_impurity_split=None,\n",
       "                       min_samples_leaf=1, min_samples_split=2,\n",
       "                       min_weight_fraction_leaf=0.0, n_estimators=100,\n",
       "                       n_jobs=None, oob_score=False, random_state=None,\n",
       "                       verbose=0, warm_start=False)"
      ]
     },
     "execution_count": 10,
     "metadata": {},
     "output_type": "execute_result"
    }
   ],
   "source": [
    "rf_classifier = RandomForestClassifier()\n",
    "rf_classifier.fit(X_train, y_train)"
   ]
  },
  {
   "cell_type": "code",
   "execution_count": 11,
   "metadata": {},
   "outputs": [],
   "source": [
    "val = rf_classifier.predict(X_val)"
   ]
  },
  {
   "cell_type": "code",
   "execution_count": 12,
   "metadata": {},
   "outputs": [
    {
     "data": {
      "text/plain": [
       "array([0, 0, 0, ..., 0, 0, 0], dtype=int64)"
      ]
     },
     "execution_count": 12,
     "metadata": {},
     "output_type": "execute_result"
    }
   ],
   "source": [
    "val"
   ]
  },
  {
   "cell_type": "code",
   "execution_count": 13,
   "metadata": {},
   "outputs": [
    {
     "data": {
      "text/plain": [
       "0.20355656451002652"
      ]
     },
     "execution_count": 13,
     "metadata": {},
     "output_type": "execute_result"
    }
   ],
   "source": [
    "f1_score(list(y_val.reshape(-1)),val)"
   ]
  },
  {
   "cell_type": "code",
   "execution_count": 14,
   "metadata": {},
   "outputs": [],
   "source": [
    "def RandomForestClassifierModelImprovement(X_train, y_train, X_val, y_val, max_depthes=[], min_samples_splits=[], min_samples_leafs=[]):\n",
    "    for max_depth in max_depthes:\n",
    "        for min_samples_split in min_samples_splits:\n",
    "            for min_samples_leaf in min_samples_leafs:\n",
    "                # Define the model. Set random_state to 1\n",
    "                rf_model = RandomForestClassifier(max_depth=max_depth, min_samples_split=min_samples_split, min_samples_leaf=min_samples_leaf)\n",
    "\n",
    "                # fit your model\n",
    "                rf_model.fit(X_train, y_train)\n",
    "\n",
    "                # Calculate the mean absolute error of your Random Forest model on the validation data\n",
    "                val = rf_model.predict(X_val)\n",
    "                rf_val_mae = mean_absolute_error(val, y_val)\n",
    "\n",
    "                print(\"Validation MAE for Random Forest Model: {}\".format(rf_val_mae))\n",
    "                \n",
    "                predict_y_val = rf_model.predict(X_val)\n",
    "                    \n",
    "                f1 = f1_score(list(y_val.reshape(-1)),val)\n",
    "                \n",
    "                print(\"max_depth:{}, min_samples_split:{}, min_samples_leaf:{}, f1score:{}\".format(max_depth, min_samples_split, min_samples_leaf,f1))   "
   ]
  },
  {
   "cell_type": "code",
   "execution_count": 17,
   "metadata": {},
   "outputs": [
    {
     "name": "stderr",
     "output_type": "stream",
     "text": [
      "C:\\Users\\lifetime\\anaconda3\\lib\\site-packages\\ipykernel_launcher.py:9: DataConversionWarning: A column-vector y was passed when a 1d array was expected. Please change the shape of y to (n_samples,), for example using ravel().\n",
      "  if __name__ == '__main__':\n"
     ]
    },
    {
     "name": "stdout",
     "output_type": "stream",
     "text": [
      "Validation MAE for Random Forest Model: 0.1660082304526749\n",
      "max_depth:1000, min_samples_split:10, min_samples_leaf:5, f1score:0.16824742268041237\n"
     ]
    },
    {
     "name": "stderr",
     "output_type": "stream",
     "text": [
      "C:\\Users\\lifetime\\anaconda3\\lib\\site-packages\\ipykernel_launcher.py:9: DataConversionWarning: A column-vector y was passed when a 1d array was expected. Please change the shape of y to (n_samples,), for example using ravel().\n",
      "  if __name__ == '__main__':\n"
     ]
    },
    {
     "name": "stdout",
     "output_type": "stream",
     "text": [
      "Validation MAE for Random Forest Model: 0.16584362139917697\n",
      "max_depth:1000, min_samples_split:10, min_samples_leaf:10, f1score:0.16076634735526862\n"
     ]
    },
    {
     "name": "stderr",
     "output_type": "stream",
     "text": [
      "C:\\Users\\lifetime\\anaconda3\\lib\\site-packages\\ipykernel_launcher.py:9: DataConversionWarning: A column-vector y was passed when a 1d array was expected. Please change the shape of y to (n_samples,), for example using ravel().\n",
      "  if __name__ == '__main__':\n"
     ]
    },
    {
     "name": "stdout",
     "output_type": "stream",
     "text": [
      "Validation MAE for Random Forest Model: 0.1660082304526749\n",
      "max_depth:1000, min_samples_split:100, min_samples_leaf:5, f1score:0.15853149770546515\n"
     ]
    },
    {
     "name": "stderr",
     "output_type": "stream",
     "text": [
      "C:\\Users\\lifetime\\anaconda3\\lib\\site-packages\\ipykernel_launcher.py:9: DataConversionWarning: A column-vector y was passed when a 1d array was expected. Please change the shape of y to (n_samples,), for example using ravel().\n",
      "  if __name__ == '__main__':\n"
     ]
    },
    {
     "name": "stdout",
     "output_type": "stream",
     "text": [
      "Validation MAE for Random Forest Model: 0.1651028806584362\n",
      "max_depth:1000, min_samples_split:100, min_samples_leaf:10, f1score:0.162771285475793\n"
     ]
    },
    {
     "name": "stderr",
     "output_type": "stream",
     "text": [
      "C:\\Users\\lifetime\\anaconda3\\lib\\site-packages\\ipykernel_launcher.py:9: DataConversionWarning: A column-vector y was passed when a 1d array was expected. Please change the shape of y to (n_samples,), for example using ravel().\n",
      "  if __name__ == '__main__':\n"
     ]
    },
    {
     "name": "stdout",
     "output_type": "stream",
     "text": [
      "Validation MAE for Random Forest Model: 0.1654320987654321\n",
      "max_depth:2000, min_samples_split:10, min_samples_leaf:5, f1score:0.17351973684210525\n"
     ]
    },
    {
     "name": "stderr",
     "output_type": "stream",
     "text": [
      "C:\\Users\\lifetime\\anaconda3\\lib\\site-packages\\ipykernel_launcher.py:9: DataConversionWarning: A column-vector y was passed when a 1d array was expected. Please change the shape of y to (n_samples,), for example using ravel().\n",
      "  if __name__ == '__main__':\n"
     ]
    },
    {
     "name": "stdout",
     "output_type": "stream",
     "text": [
      "Validation MAE for Random Forest Model: 0.16650205761316872\n",
      "max_depth:2000, min_samples_split:10, min_samples_leaf:10, f1score:0.15953469048608226\n"
     ]
    },
    {
     "name": "stderr",
     "output_type": "stream",
     "text": [
      "C:\\Users\\lifetime\\anaconda3\\lib\\site-packages\\ipykernel_launcher.py:9: DataConversionWarning: A column-vector y was passed when a 1d array was expected. Please change the shape of y to (n_samples,), for example using ravel().\n",
      "  if __name__ == '__main__':\n"
     ]
    },
    {
     "name": "stdout",
     "output_type": "stream",
     "text": [
      "Validation MAE for Random Forest Model: 0.16576131687242798\n",
      "max_depth:2000, min_samples_split:100, min_samples_leaf:5, f1score:0.1629260182876143\n"
     ]
    },
    {
     "name": "stderr",
     "output_type": "stream",
     "text": [
      "C:\\Users\\lifetime\\anaconda3\\lib\\site-packages\\ipykernel_launcher.py:9: DataConversionWarning: A column-vector y was passed when a 1d array was expected. Please change the shape of y to (n_samples,), for example using ravel().\n",
      "  if __name__ == '__main__':\n"
     ]
    },
    {
     "name": "stdout",
     "output_type": "stream",
     "text": [
      "Validation MAE for Random Forest Model: 0.16551440329218106\n",
      "max_depth:2000, min_samples_split:100, min_samples_leaf:10, f1score:0.1617340558566069\n"
     ]
    }
   ],
   "source": [
    "RandomForestClassifierModelImprovement(X_train, y_train, X_val, y_val, max_depthes=[1000,2000], min_samples_splits=[10,100], min_samples_leafs=[5,10])"
   ]
  },
  {
   "cell_type": "code",
   "execution_count": 16,
   "metadata": {},
   "outputs": [],
   "source": [
    "#Validation MAE for Random Forest Model: 0.1662551440329218\n",
    "#max_depth:100, min_samples_split:10, min_samples_leaf:10, f1score:0.15763135946622184\n",
    "\n",
    "#Validation MAE for Random Forest Model: 0.16691358024691358\n",
    "#max_depth:100, min_samples_split:10, min_samples_leaf:100, f1score:0.11749347258485641\n",
    "\n",
    "#Validation MAE for Random Forest Model: 0.1702880658436214\n",
    "#max_depth:100, min_samples_split:10, min_samples_leaf:500, f1score:0.04786010124252186"
   ]
  }
 ],
 "metadata": {
  "kernelspec": {
   "display_name": "Python 3",
   "language": "python",
   "name": "python3"
  },
  "language_info": {
   "codemirror_mode": {
    "name": "ipython",
    "version": 3
   },
   "file_extension": ".py",
   "mimetype": "text/x-python",
   "name": "python",
   "nbconvert_exporter": "python",
   "pygments_lexer": "ipython3",
   "version": "3.7.6"
  }
 },
 "nbformat": 4,
 "nbformat_minor": 4
}
